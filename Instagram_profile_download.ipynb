{
 "cells": [
  {
   "cell_type": "markdown",
   "id": "27cd4664-5593-44a0-89b0-a0e19f064067",
   "metadata": {},
   "source": [
    "# Final Code"
   ]
  },
  {
   "cell_type": "code",
   "execution_count": null,
   "id": "1c1ef722-c6b9-417f-bd61-5cac553104c8",
   "metadata": {},
   "outputs": [],
   "source": [
    "# final code\n",
    "import requests as re\n",
    "from selenium import webdriver\n",
    "from selenium.webdriver.common.by import By\n",
    "from selenium.webdriver.chrome.service import Service\n",
    "from bs4 import BeautifulSoup as bs\n",
    "import time\n",
    "\n",
    "# take input and dose note open chrom until you provid a instagram link\n",
    "link = str(input(\"Give me the pesron's instagram profile link: \"))\n",
    "if link:\n",
    "    # my ChromeDriver Path\n",
    "    service = Service(r\"D:\\timepass\\chromedriver-win64\\chromedriver-win64\\chromedriver.exe\")\n",
    "    driver = webdriver.Chrome(service=service)\n",
    "    \n",
    "    driver.get(link)\n",
    "    time.sleep(5)\n",
    "    html = driver.page_source\n",
    "    soup = bs(html, 'lxml')\n",
    "#beautifulsoup work \n",
    "    img_tag = soup.find('img', {'class': '_aadp'})  \n",
    "    if img_tag:\n",
    "        img_url = img_tag['src']\n",
    "        print(\"Image URL:\", img_url)\n",
    "    else:\n",
    "        print(\"Image not found.\")\n",
    "\n",
    "\n",
    "driver.quit()\n",
    "\n",
    "save_path = str(input())+\".jpg\"\n",
    "\n",
    "response = re.get(img_url)\n",
    "\n",
    "\n",
    "if response.status_code == 200:\n",
    "    with open(save_path, \"wb\") as file:\n",
    "        file.write(response.content)\n",
    "    print(f\"Image downloaded and saved as {save_path}\")\n",
    "else:\n",
    "    print(f\"Failed to download image. Status code: {response.status_code}\")"
   ]
  }
 ],
 "metadata": {
  "kernelspec": {
   "display_name": "Python 3 (ipykernel)",
   "language": "python",
   "name": "python3"
  },
  "language_info": {
   "codemirror_mode": {
    "name": "ipython",
    "version": 3
   },
   "file_extension": ".py",
   "mimetype": "text/x-python",
   "name": "python",
   "nbconvert_exporter": "python",
   "pygments_lexer": "ipython3",
   "version": "3.11.2"
  }
 },
 "nbformat": 4,
 "nbformat_minor": 5
}
